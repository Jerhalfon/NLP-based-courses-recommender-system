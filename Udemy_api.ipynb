{
 "cells": [
  {
   "cell_type": "markdown",
   "id": "e3d739ee-c15d-48bc-950d-10e8df8b4bf3",
   "metadata": {},
   "source": [
    "# Udemy Courses API"
   ]
  },
  {
   "cell_type": "code",
   "execution_count": 2,
   "id": "d6b13d3e-7bbf-49de-af9e-86b6b8193ca3",
   "metadata": {},
   "outputs": [],
   "source": [
    "#Importing libraries to use\n",
    "\n",
    "import requests\n",
    "import base64\n",
    "import pandas as pd\n",
    "from bs4 import BeautifulSoup"
   ]
  },
  {
   "cell_type": "markdown",
   "id": "21bc98be-559b-4e17-af88-e05f72adb1cf",
   "metadata": {},
   "source": [
    "### Specifications for Udemy API"
   ]
  },
  {
   "cell_type": "code",
   "execution_count": 2,
   "id": "b2b58ce8-69d9-4b00-a0d2-8044f500ecf0",
   "metadata": {},
   "outputs": [],
   "source": [
    "# API keys\n",
    "Client = \"XLBqChAl6BgKLPv2fz5gfMvi7sOHlxETmw9KMpc2\"\n",
    "ClientS = \"JECBxGYEumOprXwdJY8vJP0SWVzG8fTPbyvX4WEqnfu15eZGqXKrkbBXY4zMKrXEnCt9aMKA9f8UuilpQReJqkKp02nKWlhmFNiKonqu78p2pIqMUozkOVNuXuz21lK5\""
   ]
  },
  {
   "cell_type": "code",
   "execution_count": 3,
   "id": "52d0c651-159f-451b-a7e2-1187e0d5cc49",
   "metadata": {},
   "outputs": [],
   "source": [
    "client_id = Client\n",
    "client_secret = ClientS\n",
    "\n",
    "# Encode client_id and client_secret in base64\n",
    "auth_str = f'{client_id}:{client_secret}'\n",
    "encoded_auth_str = base64.b64encode(auth_str.encode()).decode('utf-8')\n"
   ]
  },
  {
   "cell_type": "code",
   "execution_count": 4,
   "id": "0aeaac63-f7a2-487b-acff-23605cc5509b",
   "metadata": {},
   "outputs": [],
   "source": [
    "# Create the header\n",
    "headers = {\n",
    "    'Authorization': f'Basic {encoded_auth_str}',\n",
    "    'Accept': 'application/json',\n",
    "}"
   ]
  },
  {
   "cell_type": "markdown",
   "id": "ddf9d11d-74d5-4183-b009-34172a2b076c",
   "metadata": {},
   "source": [
    "### Preparing free courses"
   ]
  },
  {
   "cell_type": "markdown",
   "id": "93bef78a-9e55-4baa-b30e-5127ac029aea",
   "metadata": {},
   "source": [
    "For the free courses, we only take courses that have above 5000 subscribers, this will help us to avoid courses that may not be good."
   ]
  },
  {
   "cell_type": "code",
   "execution_count": 6,
   "id": "7c193b53-6cea-4b7a-91e3-e3b89c5eea5c",
   "metadata": {},
   "outputs": [
    {
     "name": "stdout",
     "output_type": "stream",
     "text": [
      "10\n",
      "An error occurred: 502 Server Error: Bad Gateway for url: https://www.udemy.com/api-2.0/courses?page=13&page_size=30&language=en&fields%5Bcourse%5D=@all&price=price-free\n",
      "20\n",
      "An error occurred: 502 Server Error: Bad Gateway for url: https://www.udemy.com/api-2.0/courses?page=21&page_size=30&language=en&fields%5Bcourse%5D=@all&price=price-free\n",
      "30\n",
      "40\n",
      "An error occurred: 502 Server Error: Bad Gateway for url: https://www.udemy.com/api-2.0/courses?page=40&page_size=30&language=en&fields%5Bcourse%5D=@all&price=price-free\n",
      "An error occurred: 502 Server Error: Bad Gateway for url: https://www.udemy.com/api-2.0/courses?page=47&page_size=30&language=en&fields%5Bcourse%5D=@all&price=price-free\n",
      "50\n",
      "60\n",
      "An error occurred: 502 Server Error: Bad Gateway for url: https://www.udemy.com/api-2.0/courses?page=64&page_size=30&language=en&fields%5Bcourse%5D=@all&price=price-free\n",
      "An error occurred: 502 Server Error: Bad Gateway for url: https://www.udemy.com/api-2.0/courses?page=65&page_size=30&language=en&fields%5Bcourse%5D=@all&price=price-free\n",
      "An error occurred: 502 Server Error: Bad Gateway for url: https://www.udemy.com/api-2.0/courses?page=67&page_size=30&language=en&fields%5Bcourse%5D=@all&price=price-free\n",
      "70\n",
      "80\n",
      "90\n",
      "100\n",
      "An error occurred: 502 Server Error: Bad Gateway for url: https://www.udemy.com/api-2.0/courses?page=106&page_size=30&language=en&fields%5Bcourse%5D=@all&price=price-free\n",
      "110\n",
      "An error occurred: 502 Server Error: Bad Gateway for url: https://www.udemy.com/api-2.0/courses?page=111&page_size=30&language=en&fields%5Bcourse%5D=@all&price=price-free\n"
     ]
    }
   ],
   "source": [
    "free_data = []\n",
    "\n",
    "for num in range(1, 120):\n",
    "    if num%10 == 0:\n",
    "        print(num)\n",
    "    free_url = f'https://www.udemy.com/api-2.0/courses?page={num}&page_size=30&language=en&fields[course]=@all&price=price-free'\n",
    "    free_response = requests.get(free_url, headers=headers)\n",
    "    \n",
    "    try:\n",
    "        free_response.raise_for_status()  # Check for any request errors\n",
    "        \n",
    "        courses = free_response.json()\n",
    "        for course in courses['results']:\n",
    "            num_subscribers = course[\"num_subscribers\"]\n",
    "            \n",
    "            if num_subscribers > 5000:\n",
    "                Title = course[\"title\"]\n",
    "                Description = course[\"description\"]\n",
    "                Category = course['primary_category']['title']\n",
    "                SubCategory = course['primary_subcategory']['title']\n",
    "                Price = course[\"price\"]\n",
    "                Avg_Rating = course[\"avg_rating\"]\n",
    "                Is_Paid = course[\"is_paid\"]\n",
    "                Level = course['instructional_level_simple']\n",
    "                URL = course['url']\n",
    "                free_data.append({'Title': Title, 'Category': Category, 'SubCategory': SubCategory, 'Description': Description , 'Rating' : Avg_Rating, 'Price' : Price , 'IsPaid' : Is_Paid,\\\n",
    "                                 'Subscribers':num_subscribers , 'Level' : Level, 'URL' : URL})\n",
    "    except Exception as e:\n",
    "        print(f\"An error occurred: {e}\")\n",
    "        continue  # Skip to the next iteration of the loop\n"
   ]
  },
  {
   "cell_type": "markdown",
   "id": "75b55411-6e0a-42c5-81e0-c1c24f880949",
   "metadata": {},
   "source": [
    "### Preparing Paid Courses"
   ]
  },
  {
   "cell_type": "markdown",
   "id": "41a9ad42-f54e-4a84-bfb0-cbd76ee8dc60",
   "metadata": {},
   "source": [
    "For the paid courses, we only take courses that have above 1000 subscribers, this will help us to avoid courses that may not be good."
   ]
  },
  {
   "cell_type": "code",
   "execution_count": 7,
   "id": "b5604ff2-9934-4a6a-b253-c0597d62176a",
   "metadata": {},
   "outputs": [
    {
     "name": "stdout",
     "output_type": "stream",
     "text": [
      "An error occurred: 502 Server Error: Bad Gateway for url: https://www.udemy.com/api-2.0/courses?page=8&page_size=20&language=en&fields%5Bcourse%5D=@all&price=price-paid\n",
      "10\n",
      "20\n",
      "30\n",
      "40\n",
      "50\n",
      "60\n",
      "An error occurred: 502 Server Error: Bad Gateway for url: https://www.udemy.com/api-2.0/courses?page=64&page_size=20&language=en&fields%5Bcourse%5D=@all&price=price-paid\n",
      "70\n",
      "80\n",
      "An error occurred: 502 Server Error: Bad Gateway for url: https://www.udemy.com/api-2.0/courses?page=87&page_size=20&language=en&fields%5Bcourse%5D=@all&price=price-paid\n",
      "90\n",
      "100\n",
      "110\n",
      "120\n",
      "An error occurred: 502 Server Error: Bad Gateway for url: https://www.udemy.com/api-2.0/courses?page=126&page_size=20&language=en&fields%5Bcourse%5D=@all&price=price-paid\n",
      "130\n",
      "140\n",
      "150\n",
      "160\n",
      "170\n",
      "An error occurred: 502 Server Error: Bad Gateway for url: https://www.udemy.com/api-2.0/courses?page=170&page_size=20&language=en&fields%5Bcourse%5D=@all&price=price-paid\n",
      "180\n",
      "190\n",
      "200\n",
      "210\n",
      "220\n",
      "230\n",
      "240\n",
      "250\n",
      "260\n",
      "An error occurred: 502 Server Error: Bad Gateway for url: https://www.udemy.com/api-2.0/courses?page=266&page_size=20&language=en&fields%5Bcourse%5D=@all&price=price-paid\n",
      "270\n",
      "280\n",
      "290\n",
      "300\n",
      "310\n",
      "320\n",
      "330\n",
      "340\n",
      "350\n"
     ]
    }
   ],
   "source": [
    "paid_data = []\n",
    "course_num = 0\n",
    "\n",
    "for num in range(1, 351):\n",
    "    if num%10 == 0:\n",
    "        print(num)\n",
    "    paid_url = f'https://www.udemy.com/api-2.0/courses?page={num}&page_size=20&language=en&fields[course]=@all&price=price-paid'\n",
    "    paid_response = requests.get(paid_url, headers=headers)\n",
    "    \n",
    "    try:\n",
    "        paid_response.raise_for_status()  # Check for any request errors\n",
    "        \n",
    "        courses = paid_response.json()\n",
    "        for course in courses['results']:\n",
    "            num_subscribers = course[\"num_subscribers\"]\n",
    "            \n",
    "            if num_subscribers > 1000:\n",
    "                Title = course[\"title\"]\n",
    "                Description = course[\"description\"]\n",
    "                Category = course['primary_category']['title']\n",
    "                SubCategory = course['primary_subcategory']['title']\n",
    "                Price = course['price_detail'][\"amount\"]\n",
    "                Avg_Rating = course[\"avg_rating\"]\n",
    "                Is_Paid = course[\"is_paid\"]\n",
    "                Level = course['instructional_level_simple']\n",
    "                URL = course['url']\n",
    "                paid_data.append({'Title': Title, 'Category': Category, 'SubCategory': SubCategory, 'Description': Description , 'Rating' : Avg_Rating, 'Price' : Price , 'IsPaid' : Is_Paid,\\\n",
    "                                 'Subscribers':num_subscribers , 'Level' : Level, 'URL' : URL})\n",
    "                \n",
    "    except Exception as e:\n",
    "        print(f\"An error occurred: {e}\")\n",
    "        continue  # Skip to the next iteration of the loop\n"
   ]
  },
  {
   "cell_type": "markdown",
   "id": "51037c0b-cb6d-4153-84cb-eb613d2b0cf6",
   "metadata": {},
   "source": [
    "#### Creating Dataframes for free and paid couses"
   ]
  },
  {
   "cell_type": "code",
   "execution_count": 111,
   "id": "ae4f2f61-de2c-4528-a67c-2399abb9e826",
   "metadata": {},
   "outputs": [],
   "source": [
    "# Creating a dataframe from the data list\n",
    "course_df = pd.DataFrame(free_data)\n",
    "course_paid_df = pd.DataFrame(paid_data)"
   ]
  },
  {
   "cell_type": "code",
   "execution_count": 112,
   "id": "203db714-06a6-44af-a73f-c32711a6f11a",
   "metadata": {},
   "outputs": [],
   "source": [
    "# Dropping in case of duplicates\n",
    "course_paid_df.drop_duplicates(inplace=True)\n",
    "course_df.drop_duplicates(inplace=True)"
   ]
  },
  {
   "cell_type": "code",
   "execution_count": 113,
   "id": "31530529-391e-4eb9-987b-000ea02e99c8",
   "metadata": {},
   "outputs": [
    {
     "name": "stderr",
     "output_type": "stream",
     "text": [
      "C:\\Users\\gusta\\AppData\\Local\\Temp\\ipykernel_22024\\2595383849.py:1: FutureWarning: The frame.append method is deprecated and will be removed from pandas in a future version. Use pandas.concat instead.\n",
      "  courses_df = course_df.append(course_paid_df)\n"
     ]
    }
   ],
   "source": [
    "courses_df = course_df.append(course_paid_df) #Joining both dataframes in a single df"
   ]
  },
  {
   "cell_type": "code",
   "execution_count": 114,
   "id": "8035e054-6848-45dc-875f-bfcf167fee35",
   "metadata": {},
   "outputs": [],
   "source": [
    "# Removing HTML tags from the 'Description' column\n",
    "from bs4 import BeautifulSoup\n",
    "# Creation of the remove tag function\n",
    "def remove_html_tags(text):\n",
    "    soup = BeautifulSoup(text, 'html.parser')\n",
    "    return soup.get_text()\n",
    "# Apply the remove_html_tags function\n",
    "courses_df['Description'] = courses_df['Description'].apply(remove_html_tags)"
   ]
  },
  {
   "cell_type": "markdown",
   "id": "097cbf28-9cb1-441e-a657-0aec0e8517d0",
   "metadata": {},
   "source": [
    "#### Cleaning data "
   ]
  },
  {
   "cell_type": "markdown",
   "id": "ae3b3416-792c-4bdb-bb8b-c5c4086fe431",
   "metadata": {},
   "source": [
    "We decide to exclude some `Categories`, `SubCategories` and a few `Titles` that we saw were very general and could affect the recommendations"
   ]
  },
  {
   "cell_type": "code",
   "execution_count": 115,
   "id": "43a0a6e0-c828-4d17-8ba2-522ed5eedbba",
   "metadata": {},
   "outputs": [],
   "source": [
    "cat_to_exclude = [\"Personal Development\", \"Lifestyle\", \"Office Productivity\", \"Teaching & Academics\"]\n",
    "data = courses_df[~courses_df['Category'].isin(cat_to_exclude)].reset_index(drop=True)\n",
    "# Filter the SubCategory\n",
    "subcat_to_exclude = [\"Communication\", \"Project Management\", \"E-Commerce\", \"Management\", \"Entrepreneurship\", \"Mental Health\" , \"Business Strategy\", \"Cryptocurrency & Blockchain\"]\n",
    "data = data[~data['SubCategory'].isin(subcat_to_exclude)].reset_index(drop=True)\n",
    "# Dropping titles with bad Description\n",
    "title_to_exclude = [\"Basic Coding in JavaScript [2019]\" , \"How To Invest In Stocks: Value Investing Course\", \"Create Your WebBrowser: Learn C# Fundamentals Practically\"]\n",
    "# Dropping categories that start with 'other'\n",
    "data = data[~data['SubCategory'].str.startswith('Other')]\n",
    "data = data[~data['Title'].isin(title_to_exclude)].reset_index(drop=True)"
   ]
  },
  {
   "cell_type": "markdown",
   "id": "d4ac7a87-d814-44b0-83a2-b1c951d72978",
   "metadata": {},
   "source": [
    "**Taking courses with `Description` below 700 words**"
   ]
  },
  {
   "cell_type": "markdown",
   "id": "c2c21b99-c3c0-4902-81b0-4ebc0a31c0d4",
   "metadata": {},
   "source": [
    "The model we are using was train with small paragraph, hence we try to have courses with the most concise descriptions"
   ]
  },
  {
   "cell_type": "code",
   "execution_count": 116,
   "id": "8beea8ca-7d7b-449a-9721-360d9dc8ef5c",
   "metadata": {},
   "outputs": [],
   "source": [
    "word_counts = data['Description'].apply(lambda x: len(str(x).split()))"
   ]
  },
  {
   "cell_type": "code",
   "execution_count": 117,
   "id": "23a9ac7e-9de0-48fc-a321-902d2e69aea9",
   "metadata": {},
   "outputs": [],
   "source": [
    "courses = data.copy() "
   ]
  },
  {
   "cell_type": "code",
   "execution_count": 118,
   "id": "04c6e09e-2fa0-43c2-8ebf-03dce922e677",
   "metadata": {},
   "outputs": [],
   "source": [
    "courses[\"Words\"] = word_counts"
   ]
  },
  {
   "cell_type": "code",
   "execution_count": 120,
   "id": "4c2e878e-9a7f-4993-b045-d416af0d8ff6",
   "metadata": {},
   "outputs": [],
   "source": [
    "courses_udemy = courses.loc[courses[\"Words\"]< 700]"
   ]
  },
  {
   "cell_type": "code",
   "execution_count": 121,
   "id": "c7870ab3-78d9-4588-b16f-a42b286286bb",
   "metadata": {},
   "outputs": [],
   "source": [
    "courses_udemy = courses_udemy.iloc[:,:-1]"
   ]
  },
  {
   "cell_type": "markdown",
   "id": "428ebfeb-1367-421d-9488-1bef32ed824d",
   "metadata": {},
   "source": [
    "#### Saving to CSV"
   ]
  },
  {
   "cell_type": "code",
   "execution_count": 123,
   "id": "0607e020-0dd0-44d0-b071-701fa3467270",
   "metadata": {},
   "outputs": [],
   "source": [
    "courses_udemy.to_csv(\"courses_udemy.csv\")"
   ]
  }
 ],
 "metadata": {
  "kernelspec": {
   "display_name": "Python 3 (ipykernel)",
   "language": "python",
   "name": "python3"
  },
  "language_info": {
   "codemirror_mode": {
    "name": "ipython",
    "version": 3
   },
   "file_extension": ".py",
   "mimetype": "text/x-python",
   "name": "python",
   "nbconvert_exporter": "python",
   "pygments_lexer": "ipython3",
   "version": "3.9.12"
  }
 },
 "nbformat": 4,
 "nbformat_minor": 5
}
